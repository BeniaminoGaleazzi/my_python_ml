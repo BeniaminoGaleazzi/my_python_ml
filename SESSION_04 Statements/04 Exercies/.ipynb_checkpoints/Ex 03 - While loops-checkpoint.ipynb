{
 "cells": [
  {
   "cell_type": "markdown",
   "metadata": {
    "collapsed": true
   },
   "source": [
    "# while loops\n",
    "\n",
    "## Exercises\n",
    "Keep in mind the general format of a while loop:\n",
    "\n",
    "    while test:\n",
    "        code statement\n",
    "    else:\n",
    "        final code statements "
   ]
  },
  {
   "cell_type": "markdown",
   "metadata": {},
   "source": [
    "1. Write a simple while loop that prints all numbers from 0 to 8. The loop must stop when the condition == 8. When you print out the results try to use \"string formatting\"."
   ]
  },
  {
   "cell_type": "code",
   "execution_count": 4,
   "metadata": {},
   "outputs": [
    {
     "name": "stdout",
     "output_type": "stream",
     "text": [
      "0\n",
      "1\n",
      "2\n",
      "3\n",
      "4\n",
      "5\n",
      "6\n",
      "7\n",
      "8\n"
     ]
    }
   ],
   "source": [
    "# counter\n",
    "count= 0\n",
    "# while loop\n",
    "while count<9:\n",
    "    print(count)\n",
    "    count+=1\n"
   ]
  },
  {
   "cell_type": "markdown",
   "metadata": {},
   "source": [
    "2. Write a python while loop that prints all the numbers incremented by two unit. The sequence should be 2,4,6,8,10."
   ]
  },
  {
   "cell_type": "code",
   "execution_count": 6,
   "metadata": {},
   "outputs": [
    {
     "name": "stdout",
     "output_type": "stream",
     "text": [
      "2\n",
      "4\n",
      "6\n",
      "8\n",
      "10\n"
     ]
    }
   ],
   "source": [
    "# counter \n",
    "count=0\n",
    "# while loop\n",
    "while count<10:\n",
    "    count+=2\n",
    "    print(count)"
   ]
  },
  {
   "cell_type": "markdown",
   "metadata": {},
   "source": [
    "3. Write a while loop that prints out all even numbers from 77 to 103. Save all the odd numbers into a list, print the list at the end."
   ]
  },
  {
   "cell_type": "code",
   "execution_count": 10,
   "metadata": {},
   "outputs": [
    {
     "name": "stdout",
     "output_type": "stream",
     "text": [
      "[77, 79, 81, 83, 85, 87, 89, 91, 93, 95, 97, 99, 101, 103]\n"
     ]
    }
   ],
   "source": [
    "# list\n",
    "lst=[]\n",
    "\n",
    "# counter\n",
    "count=77\n",
    "\n",
    "# while loop\n",
    "while count<104:\n",
    "    if count%2!=0:\n",
    "        lst.append(count)      \n",
    "    count+=1\n",
    "\n",
    "\n",
    "# print list\n",
    "print(lst)"
   ]
  },
  {
   "cell_type": "markdown",
   "metadata": {},
   "source": [
    "4. Write a while loop that prints out all numbers **NOT** divisible by 2 and 10 at the same time in the range from 77 to 103. Save the numbers divisible by 2 and 10 into a list."
   ]
  },
  {
   "cell_type": "code",
   "execution_count": 18,
   "metadata": {},
   "outputs": [
    {
     "name": "stdout",
     "output_type": "stream",
     "text": [
      "77\n",
      "78\n",
      "79\n",
      "81\n",
      "82\n",
      "83\n",
      "84\n",
      "85\n",
      "86\n",
      "87\n",
      "88\n",
      "89\n",
      "91\n",
      "92\n",
      "93\n",
      "94\n",
      "95\n",
      "96\n",
      "97\n",
      "98\n",
      "99\n",
      "101\n",
      "102\n",
      "103\n"
     ]
    }
   ],
   "source": [
    "# list\n",
    "lst=[]\n",
    "\n",
    "# counter\n",
    "count=77\n",
    "\n",
    "# while loop\n",
    "while count<104:\n",
    "    if (count%2==0 and count%10==0):\n",
    "        lst.append(count)\n",
    "    else:\n",
    "        print(count)\n",
    "    count+=1\n",
    "#print(lst)\n",
    "    \n",
    "# print list\n"
   ]
  },
  {
   "cell_type": "markdown",
   "metadata": {},
   "source": [
    "5. Write a while loop that goes from 10 to 25. Print out every number, if a number is multiple of 9 break the loop, otherwise continue. "
   ]
  },
  {
   "cell_type": "code",
   "execution_count": 21,
   "metadata": {},
   "outputs": [
    {
     "name": "stdout",
     "output_type": "stream",
     "text": [
      "10\n",
      "11\n",
      "12\n",
      "13\n",
      "14\n",
      "15\n",
      "16\n",
      "17\n"
     ]
    }
   ],
   "source": [
    "# counter\n",
    "count=10\n",
    "\n",
    "# while loop\n",
    "while count<26:\n",
    "    if count%9==0:\n",
    "        break\n",
    "    print(count)\n",
    "    count+=1\n"
   ]
  },
  {
   "cell_type": "markdown",
   "metadata": {},
   "source": [
    "6. Use the list below. Write a while loop that prints out whether a number is inside the list or not. **Hint:** Use the min() max() buit-in method to find the min max value inside the list value of the list. E.g *min(list)*"
   ]
  },
  {
   "cell_type": "code",
   "execution_count": 23,
   "metadata": {},
   "outputs": [
    {
     "name": "stdout",
     "output_type": "stream",
     "text": [
      "6\n",
      "12\n",
      "33\n",
      "54\n",
      "65\n",
      "90\n"
     ]
    }
   ],
   "source": [
    "# list\n",
    "lst=[33,65,6,90,54,12]\n",
    "\n",
    "# counter\n",
    "count=min(lst)\n",
    "\n",
    "# while loop\n",
    "while count<max(lst)+1:\n",
    "    if count in lst:\n",
    "        print(count)\n",
    "    count+=1\n"
   ]
  },
  {
   "cell_type": "markdown",
   "metadata": {
    "collapsed": true
   },
   "source": [
    "# Nice Job! "
   ]
  },
  {
   "cell_type": "code",
   "execution_count": null,
   "metadata": {},
   "outputs": [],
   "source": []
  },
  {
   "cell_type": "code",
   "execution_count": null,
   "metadata": {},
   "outputs": [],
   "source": []
  }
 ],
 "metadata": {
  "kernelspec": {
   "display_name": "Python 3",
   "language": "python",
   "name": "python3"
  },
  "language_info": {
   "codemirror_mode": {
    "name": "ipython",
    "version": 3
   },
   "file_extension": ".py",
   "mimetype": "text/x-python",
   "name": "python",
   "nbconvert_exporter": "python",
   "pygments_lexer": "ipython3",
   "version": "3.7.1"
  }
 },
 "nbformat": 4,
 "nbformat_minor": 1
}
