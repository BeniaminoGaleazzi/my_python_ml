{
 "cells": [
  {
   "cell_type": "code",
   "execution_count": 1,
   "metadata": {},
   "outputs": [
    {
     "data": {
      "text/plain": [
       "True"
      ]
     },
     "execution_count": 1,
     "metadata": {},
     "output_type": "execute_result"
    }
   ],
   "source": [
    "import webbrowser\n",
    "url = 'https://www.gmail.com'\n",
    "webbrowser.open(url)"
   ]
  },
  {
   "cell_type": "code",
   "execution_count": 5,
   "metadata": {},
   "outputs": [
    {
     "name": "stdout",
     "output_type": "stream",
     "text": [
      "The number is:  0\n",
      "The number still less than 5, adding 1 unit \n",
      "\n",
      "The number is:  1\n",
      "The number still less than 5, adding 1 unit \n",
      "\n",
      "The number is:  2\n",
      "The number still less than 5, adding 1 unit \n",
      "\n",
      "The number is:  3\n",
      "The number still less than 5, adding 1 unit \n",
      "\n",
      "The number is:  4\n",
      "The number still less than 5, adding 1 unit \n",
      "\n"
     ]
    }
   ],
   "source": [
    "x = 0\n",
    "while x <5:\n",
    "    print('The number is: ', x)\n",
    "    print('The number still less than 5, adding 1 unit', '\\n')\n",
    "    x+=1"
   ]
  },
  {
   "cell_type": "markdown",
   "metadata": {},
   "source": [
    "#Break, continue, pass"
   ]
  },
  {
   "cell_type": "code",
   "execution_count": 6,
   "metadata": {},
   "outputs": [
    {
     "name": "stdout",
     "output_type": "stream",
     "text": [
      "Current letter : s\n",
      "Current letter : u\n",
      "Current letter : r\n",
      "Current letter : i\n",
      "Current letter : n\n",
      "Current letter : g\n"
     ]
    }
   ],
   "source": [
    "for letter in 'surfing':\n",
    "    if letter == 'f':\n",
    "        continue\n",
    "        print('The process continues')\n",
    "    else: \n",
    "        print('Current letter :', letter)"
   ]
  },
  {
   "cell_type": "code",
   "execution_count": 7,
   "metadata": {},
   "outputs": [
    {
     "name": "stdout",
     "output_type": "stream",
     "text": [
      "Current letter : s\n",
      "Current letter : u\n",
      "Current letter : r\n"
     ]
    }
   ],
   "source": [
    "for letter in 'surfing':\n",
    "    if letter == 'f':\n",
    "        break\n",
    "    else:\n",
    "        print('Current letter :', letter)"
   ]
  },
  {
   "cell_type": "code",
   "execution_count": 8,
   "metadata": {},
   "outputs": [
    {
     "name": "stdout",
     "output_type": "stream",
     "text": [
      "Current Letter : s\n",
      "Current Letter : u\n",
      "Current Letter : r\n",
      "This is pass block\n",
      "Current Letter : f\n",
      "Current Letter : i\n",
      "Current Letter : n\n",
      "Current Letter : g\n",
      "Good bye!\n"
     ]
    }
   ],
   "source": [
    "for letter in 'surfing':\n",
    "    if letter == 'f':\n",
    "        pass\n",
    "        print('This is pass block')\n",
    "    print('Current Letter :', letter)\n",
    "    \n",
    "print(\"Good bye!\")"
   ]
  },
  {
   "cell_type": "code",
   "execution_count": null,
   "metadata": {},
   "outputs": [],
   "source": []
  }
 ],
 "metadata": {
  "kernelspec": {
   "display_name": "Python 3",
   "language": "python",
   "name": "python3"
  },
  "language_info": {
   "codemirror_mode": {
    "name": "ipython",
    "version": 3
   },
   "file_extension": ".py",
   "mimetype": "text/x-python",
   "name": "python",
   "nbconvert_exporter": "python",
   "pygments_lexer": "ipython3",
   "version": "3.7.1"
  }
 },
 "nbformat": 4,
 "nbformat_minor": 2
}
